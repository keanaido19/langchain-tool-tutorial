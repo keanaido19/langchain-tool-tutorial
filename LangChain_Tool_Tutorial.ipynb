{
 "cells": [
  {
   "metadata": {
    "ExecuteTime": {
     "end_time": "2025-08-09T14:05:26.342577Z",
     "start_time": "2025-08-09T14:03:36.688320Z"
    }
   },
   "cell_type": "code",
   "source": "!pip install langchain==0.1.17",
   "id": "789d41fdc620413e",
   "outputs": [
    {
     "name": "stdout",
     "output_type": "stream",
     "text": [
      "Collecting langchain==0.1.17\n",
      "  Downloading langchain-0.1.17-py3-none-any.whl.metadata (13 kB)\n",
      "Requirement already satisfied: PyYAML>=5.3 in c:\\users\\keaton naidoo\\pycharmprojects\\langchain-tool-tutorial\\.venv\\lib\\site-packages (from langchain==0.1.17) (6.0.2)\n",
      "Collecting SQLAlchemy<3,>=1.4 (from langchain==0.1.17)\n",
      "  Using cached sqlalchemy-2.0.42-cp313-cp313-win_amd64.whl.metadata (9.8 kB)\n",
      "Collecting aiohttp<4.0.0,>=3.8.3 (from langchain==0.1.17)\n",
      "  Using cached aiohttp-3.12.15-cp313-cp313-win_amd64.whl.metadata (7.9 kB)\n",
      "Collecting dataclasses-json<0.7,>=0.5.7 (from langchain==0.1.17)\n",
      "  Using cached dataclasses_json-0.6.7-py3-none-any.whl.metadata (25 kB)\n",
      "Collecting jsonpatch<2.0,>=1.33 (from langchain==0.1.17)\n",
      "  Using cached jsonpatch-1.33-py2.py3-none-any.whl.metadata (3.0 kB)\n",
      "Collecting langchain-community<0.1,>=0.0.36 (from langchain==0.1.17)\n",
      "  Downloading langchain_community-0.0.38-py3-none-any.whl.metadata (8.7 kB)\n",
      "Collecting langchain-core<0.2.0,>=0.1.48 (from langchain==0.1.17)\n",
      "  Downloading langchain_core-0.1.53-py3-none-any.whl.metadata (5.9 kB)\n",
      "Collecting langchain-text-splitters<0.1,>=0.0.1 (from langchain==0.1.17)\n",
      "  Downloading langchain_text_splitters-0.0.2-py3-none-any.whl.metadata (2.2 kB)\n",
      "Collecting langsmith<0.2.0,>=0.1.17 (from langchain==0.1.17)\n",
      "  Downloading langsmith-0.1.147-py3-none-any.whl.metadata (14 kB)\n",
      "Collecting numpy<2,>=1 (from langchain==0.1.17)\n",
      "  Downloading numpy-1.26.4.tar.gz (15.8 MB)\n",
      "     ---------------------------------------- 0.0/15.8 MB ? eta -:--:--\n",
      "     - -------------------------------------- 0.5/15.8 MB 2.6 MB/s eta 0:00:06\n",
      "     -- ------------------------------------- 1.0/15.8 MB 2.6 MB/s eta 0:00:06\n",
      "     --- ------------------------------------ 1.6/15.8 MB 2.6 MB/s eta 0:00:06\n",
      "     ----- ---------------------------------- 2.1/15.8 MB 2.6 MB/s eta 0:00:06\n",
      "     ------ --------------------------------- 2.6/15.8 MB 2.6 MB/s eta 0:00:06\n",
      "     ------- -------------------------------- 3.1/15.8 MB 2.6 MB/s eta 0:00:05\n",
      "     --------- ------------------------------ 3.7/15.8 MB 2.6 MB/s eta 0:00:05\n",
      "     ---------- ----------------------------- 4.2/15.8 MB 2.6 MB/s eta 0:00:05\n",
      "     ----------- ---------------------------- 4.7/15.8 MB 2.6 MB/s eta 0:00:05\n",
      "     ------------- -------------------------- 5.2/15.8 MB 2.6 MB/s eta 0:00:05\n",
      "     -------------- ------------------------- 5.8/15.8 MB 2.6 MB/s eta 0:00:04\n",
      "     --------------- ------------------------ 6.3/15.8 MB 2.6 MB/s eta 0:00:04\n",
      "     ----------------- ---------------------- 6.8/15.8 MB 2.6 MB/s eta 0:00:04\n",
      "     ------------------ --------------------- 7.3/15.8 MB 2.6 MB/s eta 0:00:04\n",
      "     ------------------- -------------------- 7.9/15.8 MB 2.6 MB/s eta 0:00:04\n",
      "     --------------------- ------------------ 8.4/15.8 MB 2.6 MB/s eta 0:00:03\n",
      "     ---------------------- ----------------- 8.9/15.8 MB 2.6 MB/s eta 0:00:03\n",
      "     ----------------------- ---------------- 9.4/15.8 MB 2.6 MB/s eta 0:00:03\n",
      "     ------------------------- -------------- 10.0/15.8 MB 2.6 MB/s eta 0:00:03\n",
      "     -------------------------- ------------- 10.5/15.8 MB 2.6 MB/s eta 0:00:03\n",
      "     --------------------------- ------------ 11.0/15.8 MB 2.6 MB/s eta 0:00:02\n",
      "     ----------------------------- ---------- 11.8/15.8 MB 2.6 MB/s eta 0:00:02\n",
      "     ------------------------------- -------- 12.3/15.8 MB 2.6 MB/s eta 0:00:02\n",
      "     -------------------------------- ------- 12.8/15.8 MB 2.6 MB/s eta 0:00:02\n",
      "     --------------------------------- ------ 13.4/15.8 MB 2.6 MB/s eta 0:00:01\n",
      "     ----------------------------------- ---- 13.9/15.8 MB 2.6 MB/s eta 0:00:01\n",
      "     ------------------------------------ --- 14.4/15.8 MB 2.6 MB/s eta 0:00:01\n",
      "     ------------------------------------- -- 14.9/15.8 MB 2.6 MB/s eta 0:00:01\n",
      "     ---------------------------------------  15.5/15.8 MB 2.6 MB/s eta 0:00:01\n",
      "     ---------------------------------------- 15.8/15.8 MB 2.6 MB/s eta 0:00:00\n",
      "  Installing build dependencies: started\n",
      "  Installing build dependencies: finished with status 'done'\n",
      "  Getting requirements to build wheel: started\n",
      "  Getting requirements to build wheel: finished with status 'done'\n",
      "  Installing backend dependencies: started\n",
      "  Installing backend dependencies: finished with status 'done'\n",
      "  Preparing metadata (pyproject.toml): started\n",
      "  Preparing metadata (pyproject.toml): still running...\n",
      "  Preparing metadata (pyproject.toml): finished with status 'done'\n",
      "Collecting pydantic<3,>=1 (from langchain==0.1.17)\n",
      "  Using cached pydantic-2.11.7-py3-none-any.whl.metadata (67 kB)\n",
      "Requirement already satisfied: requests<3,>=2 in c:\\users\\keaton naidoo\\pycharmprojects\\langchain-tool-tutorial\\.venv\\lib\\site-packages (from langchain==0.1.17) (2.32.4)\n",
      "Collecting tenacity<9.0.0,>=8.1.0 (from langchain==0.1.17)\n",
      "  Downloading tenacity-8.5.0-py3-none-any.whl.metadata (1.2 kB)\n",
      "Collecting aiohappyeyeballs>=2.5.0 (from aiohttp<4.0.0,>=3.8.3->langchain==0.1.17)\n",
      "  Using cached aiohappyeyeballs-2.6.1-py3-none-any.whl.metadata (5.9 kB)\n",
      "Collecting aiosignal>=1.4.0 (from aiohttp<4.0.0,>=3.8.3->langchain==0.1.17)\n",
      "  Using cached aiosignal-1.4.0-py3-none-any.whl.metadata (3.7 kB)\n",
      "Requirement already satisfied: attrs>=17.3.0 in c:\\users\\keaton naidoo\\pycharmprojects\\langchain-tool-tutorial\\.venv\\lib\\site-packages (from aiohttp<4.0.0,>=3.8.3->langchain==0.1.17) (25.3.0)\n",
      "Collecting frozenlist>=1.1.1 (from aiohttp<4.0.0,>=3.8.3->langchain==0.1.17)\n",
      "  Using cached frozenlist-1.7.0-cp313-cp313-win_amd64.whl.metadata (19 kB)\n",
      "Collecting multidict<7.0,>=4.5 (from aiohttp<4.0.0,>=3.8.3->langchain==0.1.17)\n",
      "  Using cached multidict-6.6.3-cp313-cp313-win_amd64.whl.metadata (5.4 kB)\n",
      "Collecting propcache>=0.2.0 (from aiohttp<4.0.0,>=3.8.3->langchain==0.1.17)\n",
      "  Using cached propcache-0.3.2-cp313-cp313-win_amd64.whl.metadata (12 kB)\n",
      "Collecting yarl<2.0,>=1.17.0 (from aiohttp<4.0.0,>=3.8.3->langchain==0.1.17)\n",
      "  Using cached yarl-1.20.1-cp313-cp313-win_amd64.whl.metadata (76 kB)\n",
      "Collecting marshmallow<4.0.0,>=3.18.0 (from dataclasses-json<0.7,>=0.5.7->langchain==0.1.17)\n",
      "  Using cached marshmallow-3.26.1-py3-none-any.whl.metadata (7.3 kB)\n",
      "Collecting typing-inspect<1,>=0.4.0 (from dataclasses-json<0.7,>=0.5.7->langchain==0.1.17)\n",
      "  Using cached typing_inspect-0.9.0-py3-none-any.whl.metadata (1.5 kB)\n",
      "Requirement already satisfied: jsonpointer>=1.9 in c:\\users\\keaton naidoo\\pycharmprojects\\langchain-tool-tutorial\\.venv\\lib\\site-packages (from jsonpatch<2.0,>=1.33->langchain==0.1.17) (3.0.0)\n",
      "Collecting packaging<24.0,>=23.2 (from langchain-core<0.2.0,>=0.1.48->langchain==0.1.17)\n",
      "  Downloading packaging-23.2-py3-none-any.whl.metadata (3.2 kB)\n",
      "Requirement already satisfied: httpx<1,>=0.23.0 in c:\\users\\keaton naidoo\\pycharmprojects\\langchain-tool-tutorial\\.venv\\lib\\site-packages (from langsmith<0.2.0,>=0.1.17->langchain==0.1.17) (0.28.1)\n",
      "Collecting orjson<4.0.0,>=3.9.14 (from langsmith<0.2.0,>=0.1.17->langchain==0.1.17)\n",
      "  Using cached orjson-3.11.1-cp313-cp313-win_amd64.whl.metadata (43 kB)\n",
      "Collecting requests-toolbelt<2.0.0,>=1.0.0 (from langsmith<0.2.0,>=0.1.17->langchain==0.1.17)\n",
      "  Using cached requests_toolbelt-1.0.0-py2.py3-none-any.whl.metadata (14 kB)\n",
      "Requirement already satisfied: anyio in c:\\users\\keaton naidoo\\pycharmprojects\\langchain-tool-tutorial\\.venv\\lib\\site-packages (from httpx<1,>=0.23.0->langsmith<0.2.0,>=0.1.17->langchain==0.1.17) (4.10.0)\n",
      "Requirement already satisfied: certifi in c:\\users\\keaton naidoo\\pycharmprojects\\langchain-tool-tutorial\\.venv\\lib\\site-packages (from httpx<1,>=0.23.0->langsmith<0.2.0,>=0.1.17->langchain==0.1.17) (2025.8.3)\n",
      "Requirement already satisfied: httpcore==1.* in c:\\users\\keaton naidoo\\pycharmprojects\\langchain-tool-tutorial\\.venv\\lib\\site-packages (from httpx<1,>=0.23.0->langsmith<0.2.0,>=0.1.17->langchain==0.1.17) (1.0.9)\n",
      "Requirement already satisfied: idna in c:\\users\\keaton naidoo\\pycharmprojects\\langchain-tool-tutorial\\.venv\\lib\\site-packages (from httpx<1,>=0.23.0->langsmith<0.2.0,>=0.1.17->langchain==0.1.17) (3.10)\n",
      "Requirement already satisfied: h11>=0.16 in c:\\users\\keaton naidoo\\pycharmprojects\\langchain-tool-tutorial\\.venv\\lib\\site-packages (from httpcore==1.*->httpx<1,>=0.23.0->langsmith<0.2.0,>=0.1.17->langchain==0.1.17) (0.16.0)\n",
      "Collecting annotated-types>=0.6.0 (from pydantic<3,>=1->langchain==0.1.17)\n",
      "  Using cached annotated_types-0.7.0-py3-none-any.whl.metadata (15 kB)\n",
      "Collecting pydantic-core==2.33.2 (from pydantic<3,>=1->langchain==0.1.17)\n",
      "  Using cached pydantic_core-2.33.2-cp313-cp313-win_amd64.whl.metadata (6.9 kB)\n",
      "Requirement already satisfied: typing-extensions>=4.12.2 in c:\\users\\keaton naidoo\\pycharmprojects\\langchain-tool-tutorial\\.venv\\lib\\site-packages (from pydantic<3,>=1->langchain==0.1.17) (4.14.1)\n",
      "Collecting typing-inspection>=0.4.0 (from pydantic<3,>=1->langchain==0.1.17)\n",
      "  Using cached typing_inspection-0.4.1-py3-none-any.whl.metadata (2.6 kB)\n",
      "Requirement already satisfied: charset_normalizer<4,>=2 in c:\\users\\keaton naidoo\\pycharmprojects\\langchain-tool-tutorial\\.venv\\lib\\site-packages (from requests<3,>=2->langchain==0.1.17) (3.4.3)\n",
      "Requirement already satisfied: urllib3<3,>=1.21.1 in c:\\users\\keaton naidoo\\pycharmprojects\\langchain-tool-tutorial\\.venv\\lib\\site-packages (from requests<3,>=2->langchain==0.1.17) (2.5.0)\n",
      "Collecting greenlet>=1 (from SQLAlchemy<3,>=1.4->langchain==0.1.17)\n",
      "  Using cached greenlet-3.2.4-cp313-cp313-win_amd64.whl.metadata (4.2 kB)\n",
      "Collecting mypy-extensions>=0.3.0 (from typing-inspect<1,>=0.4.0->dataclasses-json<0.7,>=0.5.7->langchain==0.1.17)\n",
      "  Using cached mypy_extensions-1.1.0-py3-none-any.whl.metadata (1.1 kB)\n",
      "Requirement already satisfied: sniffio>=1.1 in c:\\users\\keaton naidoo\\pycharmprojects\\langchain-tool-tutorial\\.venv\\lib\\site-packages (from anyio->httpx<1,>=0.23.0->langsmith<0.2.0,>=0.1.17->langchain==0.1.17) (1.3.1)\n",
      "Downloading langchain-0.1.17-py3-none-any.whl (867 kB)\n",
      "   ---------------------------------------- 0.0/867.6 kB ? eta -:--:--\n",
      "   ------------------------ --------------- 524.3/867.6 kB 2.6 MB/s eta 0:00:01\n",
      "   ---------------------------------------- 867.6/867.6 kB 2.6 MB/s eta 0:00:00\n",
      "Using cached aiohttp-3.12.15-cp313-cp313-win_amd64.whl (449 kB)\n",
      "Using cached dataclasses_json-0.6.7-py3-none-any.whl (28 kB)\n",
      "Using cached jsonpatch-1.33-py2.py3-none-any.whl (12 kB)\n",
      "Downloading langchain_community-0.0.38-py3-none-any.whl (2.0 MB)\n",
      "   ---------------------------------------- 0.0/2.0 MB ? eta -:--:--\n",
      "   ---------- ----------------------------- 0.5/2.0 MB 2.7 MB/s eta 0:00:01\n",
      "   -------------------- ------------------- 1.0/2.0 MB 2.6 MB/s eta 0:00:01\n",
      "   ------------------------------- -------- 1.6/2.0 MB 2.6 MB/s eta 0:00:01\n",
      "   ---------------------------------------- 2.0/2.0 MB 2.6 MB/s eta 0:00:00\n",
      "Downloading langchain_core-0.1.53-py3-none-any.whl (303 kB)\n",
      "Downloading langchain_text_splitters-0.0.2-py3-none-any.whl (23 kB)\n",
      "Downloading langsmith-0.1.147-py3-none-any.whl (311 kB)\n",
      "Using cached marshmallow-3.26.1-py3-none-any.whl (50 kB)\n",
      "Using cached multidict-6.6.3-cp313-cp313-win_amd64.whl (45 kB)\n",
      "Using cached orjson-3.11.1-cp313-cp313-win_amd64.whl (131 kB)\n",
      "Downloading packaging-23.2-py3-none-any.whl (53 kB)\n",
      "Using cached pydantic-2.11.7-py3-none-any.whl (444 kB)\n",
      "Using cached pydantic_core-2.33.2-cp313-cp313-win_amd64.whl (2.0 MB)\n",
      "Using cached requests_toolbelt-1.0.0-py2.py3-none-any.whl (54 kB)\n",
      "Using cached sqlalchemy-2.0.42-cp313-cp313-win_amd64.whl (2.1 MB)\n",
      "Downloading tenacity-8.5.0-py3-none-any.whl (28 kB)\n",
      "Using cached typing_inspect-0.9.0-py3-none-any.whl (8.8 kB)\n",
      "Using cached yarl-1.20.1-cp313-cp313-win_amd64.whl (86 kB)\n",
      "Using cached aiohappyeyeballs-2.6.1-py3-none-any.whl (15 kB)\n",
      "Using cached aiosignal-1.4.0-py3-none-any.whl (7.5 kB)\n",
      "Using cached annotated_types-0.7.0-py3-none-any.whl (13 kB)\n",
      "Using cached frozenlist-1.7.0-cp313-cp313-win_amd64.whl (43 kB)\n",
      "Using cached greenlet-3.2.4-cp313-cp313-win_amd64.whl (299 kB)\n",
      "Using cached mypy_extensions-1.1.0-py3-none-any.whl (5.0 kB)\n",
      "Using cached propcache-0.3.2-cp313-cp313-win_amd64.whl (40 kB)\n",
      "Using cached typing_inspection-0.4.1-py3-none-any.whl (14 kB)\n",
      "Building wheels for collected packages: numpy\n",
      "  Building wheel for numpy (pyproject.toml): started\n",
      "  Building wheel for numpy (pyproject.toml): finished with status 'done'\n",
      "  Created wheel for numpy: filename=numpy-1.26.4-cp313-cp313-win_amd64.whl size=6081905 sha256=8d2a1f7ba1e9bb8e923c97e60672e30752f2f85d75502b417996065503e07dcc\n",
      "  Stored in directory: c:\\users\\keaton naidoo\\appdata\\local\\pip\\cache\\wheels\\8b\\2d\\9f\\b6b46373f328e2ef50388915d351ccacbedac929459b5459bf\n",
      "Successfully built numpy\n",
      "Installing collected packages: typing-inspection, tenacity, pydantic-core, propcache, packaging, orjson, numpy, mypy-extensions, multidict, jsonpatch, greenlet, frozenlist, annotated-types, aiohappyeyeballs, yarl, typing-inspect, SQLAlchemy, requests-toolbelt, pydantic, marshmallow, aiosignal, langsmith, dataclasses-json, aiohttp, langchain-core, langchain-text-splitters, langchain-community, langchain\n",
      "\n",
      "  Attempting uninstall: packaging\n",
      "\n",
      "    Found existing installation: packaging 25.0\n",
      "\n",
      "    Uninstalling packaging-25.0:\n",
      "\n",
      "      Successfully uninstalled packaging-25.0\n",
      "\n",
      "   ------- --------------------------------  5/28 [orjson]\n",
      "  Attempting uninstall: numpy\n",
      "   ------- --------------------------------  5/28 [orjson]\n",
      "    Found existing installation: numpy 2.3.2\n",
      "   ------- --------------------------------  5/28 [orjson]\n",
      "   -------- -------------------------------  6/28 [numpy]\n",
      "    Uninstalling numpy-2.3.2:\n",
      "   -------- -------------------------------  6/28 [numpy]\n",
      "      Successfully uninstalled numpy-2.3.2\n",
      "   -------- -------------------------------  6/28 [numpy]\n",
      "   -------- -------------------------------  6/28 [numpy]\n",
      "   -------- -------------------------------  6/28 [numpy]\n",
      "   -------- -------------------------------  6/28 [numpy]\n",
      "   -------- -------------------------------  6/28 [numpy]\n",
      "   -------- -------------------------------  6/28 [numpy]\n",
      "   -------- -------------------------------  6/28 [numpy]\n",
      "   -------- -------------------------------  6/28 [numpy]\n",
      "   -------- -------------------------------  6/28 [numpy]\n",
      "   -------- -------------------------------  6/28 [numpy]\n",
      "   -------- -------------------------------  6/28 [numpy]\n",
      "   -------- -------------------------------  6/28 [numpy]\n",
      "   -------- -------------------------------  6/28 [numpy]\n",
      "   -------- -------------------------------  6/28 [numpy]\n",
      "   -------- -------------------------------  6/28 [numpy]\n",
      "   -------- -------------------------------  6/28 [numpy]\n",
      "   -------- -------------------------------  6/28 [numpy]\n",
      "   -------- -------------------------------  6/28 [numpy]\n",
      "   -------- -------------------------------  6/28 [numpy]\n",
      "   -------------- ------------------------- 10/28 [greenlet]\n",
      "   ---------------------- ----------------- 16/28 [SQLAlchemy]\n",
      "   ---------------------- ----------------- 16/28 [SQLAlchemy]\n",
      "   ---------------------- ----------------- 16/28 [SQLAlchemy]\n",
      "   ---------------------- ----------------- 16/28 [SQLAlchemy]\n",
      "   ---------------------- ----------------- 16/28 [SQLAlchemy]\n",
      "   ---------------------- ----------------- 16/28 [SQLAlchemy]\n",
      "   ---------------------- ----------------- 16/28 [SQLAlchemy]\n",
      "   ---------------------- ----------------- 16/28 [SQLAlchemy]\n",
      "   ------------------------- -------------- 18/28 [pydantic]\n",
      "   ------------------------- -------------- 18/28 [pydantic]\n",
      "   --------------------------- ------------ 19/28 [marshmallow]\n",
      "   ------------------------------ --------- 21/28 [langsmith]\n",
      "   -------------------------------- ------- 23/28 [aiohttp]\n",
      "   ---------------------------------- ----- 24/28 [langchain-core]\n",
      "   ---------------------------------- ----- 24/28 [langchain-core]\n",
      "   ---------------------------------- ----- 24/28 [langchain-core]\n",
      "   ------------------------------------- -- 26/28 [langchain-community]\n",
      "   ------------------------------------- -- 26/28 [langchain-community]\n",
      "   ------------------------------------- -- 26/28 [langchain-community]\n",
      "   ------------------------------------- -- 26/28 [langchain-community]\n",
      "   ------------------------------------- -- 26/28 [langchain-community]\n",
      "   ------------------------------------- -- 26/28 [langchain-community]\n",
      "   ------------------------------------- -- 26/28 [langchain-community]\n",
      "   ------------------------------------- -- 26/28 [langchain-community]\n",
      "   ------------------------------------- -- 26/28 [langchain-community]\n",
      "   ------------------------------------- -- 26/28 [langchain-community]\n",
      "   ------------------------------------- -- 26/28 [langchain-community]\n",
      "   ------------------------------------- -- 26/28 [langchain-community]\n",
      "   ------------------------------------- -- 26/28 [langchain-community]\n",
      "   ------------------------------------- -- 26/28 [langchain-community]\n",
      "   ------------------------------------- -- 26/28 [langchain-community]\n",
      "   ------------------------------------- -- 26/28 [langchain-community]\n",
      "   ------------------------------------- -- 26/28 [langchain-community]\n",
      "   ------------------------------------- -- 26/28 [langchain-community]\n",
      "   ------------------------------------- -- 26/28 [langchain-community]\n",
      "   ------------------------------------- -- 26/28 [langchain-community]\n",
      "   ------------------------------------- -- 26/28 [langchain-community]\n",
      "   ------------------------------------- -- 26/28 [langchain-community]\n",
      "   ------------------------------------- -- 26/28 [langchain-community]\n",
      "   ------------------------------------- -- 26/28 [langchain-community]\n",
      "   ------------------------------------- -- 26/28 [langchain-community]\n",
      "   -------------------------------------- - 27/28 [langchain]\n",
      "   -------------------------------------- - 27/28 [langchain]\n",
      "   -------------------------------------- - 27/28 [langchain]\n",
      "   -------------------------------------- - 27/28 [langchain]\n",
      "   -------------------------------------- - 27/28 [langchain]\n",
      "   -------------------------------------- - 27/28 [langchain]\n",
      "   -------------------------------------- - 27/28 [langchain]\n",
      "   -------------------------------------- - 27/28 [langchain]\n",
      "   -------------------------------------- - 27/28 [langchain]\n",
      "   -------------------------------------- - 27/28 [langchain]\n",
      "   -------------------------------------- - 27/28 [langchain]\n",
      "   -------------------------------------- - 27/28 [langchain]\n",
      "   -------------------------------------- - 27/28 [langchain]\n",
      "   -------------------------------------- - 27/28 [langchain]\n",
      "   -------------------------------------- - 27/28 [langchain]\n",
      "   -------------------------------------- - 27/28 [langchain]\n",
      "   -------------------------------------- - 27/28 [langchain]\n",
      "   -------------------------------------- - 27/28 [langchain]\n",
      "   ---------------------------------------- 28/28 [langchain]\n",
      "\n",
      "Successfully installed SQLAlchemy-2.0.42 aiohappyeyeballs-2.6.1 aiohttp-3.12.15 aiosignal-1.4.0 annotated-types-0.7.0 dataclasses-json-0.6.7 frozenlist-1.7.0 greenlet-3.2.4 jsonpatch-1.33 langchain-0.1.17 langchain-community-0.0.38 langchain-core-0.1.53 langchain-text-splitters-0.0.2 langsmith-0.1.147 marshmallow-3.26.1 multidict-6.6.3 mypy-extensions-1.1.0 numpy-1.26.4 orjson-3.11.1 packaging-23.2 propcache-0.3.2 pydantic-2.11.7 pydantic-core-2.33.2 requests-toolbelt-1.0.0 tenacity-8.5.0 typing-inspect-0.9.0 typing-inspection-0.4.1 yarl-1.20.1\n"
     ]
    },
    {
     "name": "stderr",
     "output_type": "stream",
     "text": [
      "\n",
      "[notice] A new release of pip is available: 25.1.1 -> 25.2\n",
      "[notice] To update, run: python.exe -m pip install --upgrade pip\n"
     ]
    }
   ],
   "execution_count": 1
  },
  {
   "metadata": {
    "ExecuteTime": {
     "end_time": "2025-08-09T14:50:39.393715Z",
     "start_time": "2025-08-09T14:50:38.709790Z"
    }
   },
   "cell_type": "code",
   "source": "from langchain_core.tools import tool",
   "id": "7b35641b591a158e",
   "outputs": [],
   "execution_count": 2
  },
  {
   "metadata": {
    "ExecuteTime": {
     "end_time": "2025-08-09T14:56:11.554249Z",
     "start_time": "2025-08-09T14:56:11.550485Z"
    }
   },
   "cell_type": "code",
   "source": [
    "@tool\n",
    "def sum_even_or_odd(a: int, b: int) -> str:\n",
    "    \"\"\"This function calculates the sum of two integers and returns \"Even\" if the sum is an even number or \"Odd\" if the sum is odd number.\"\"\"\n",
    "    return \"Odd\" if (a + b) & 1 else \"Even\""
   ],
   "id": "d9dfd169e2168657",
   "outputs": [],
   "execution_count": 4
  },
  {
   "metadata": {
    "ExecuteTime": {
     "end_time": "2025-08-09T14:56:51.269947Z",
     "start_time": "2025-08-09T14:56:51.266996Z"
    }
   },
   "cell_type": "code",
   "source": "print(sum_even_or_odd)",
   "id": "6bbf084d904e6eaa",
   "outputs": [
    {
     "name": "stdout",
     "output_type": "stream",
     "text": [
      "name='sum_even_or_odd' description='sum_even_or_odd(a: int, b: int) -> str - This function calculates the sum of two integers and returns \"Even\" if the sum is an even number or \"Odd\" if the sum is odd number.' args_schema=<class 'pydantic.v1.main.sum_even_or_oddSchema'> func=<function sum_even_or_odd at 0x00000236DD7F94E0>\n"
     ]
    }
   ],
   "execution_count": 5
  },
  {
   "metadata": {
    "ExecuteTime": {
     "end_time": "2025-08-09T14:57:13.554466Z",
     "start_time": "2025-08-09T14:57:13.552058Z"
    }
   },
   "cell_type": "code",
   "source": "print(sum_even_or_odd.description)",
   "id": "987f2774827e117f",
   "outputs": [
    {
     "name": "stdout",
     "output_type": "stream",
     "text": [
      "sum_even_or_odd(a: int, b: int) -> str - This function calculates the sum of two integers and returns \"Even\" if the sum is an even number or \"Odd\" if the sum is odd number.\n"
     ]
    }
   ],
   "execution_count": 6
  },
  {
   "metadata": {
    "ExecuteTime": {
     "end_time": "2025-08-09T14:57:22.675651Z",
     "start_time": "2025-08-09T14:57:22.673055Z"
    }
   },
   "cell_type": "code",
   "source": "print(sum_even_or_odd.name)",
   "id": "8c35d3b585d6f604",
   "outputs": [
    {
     "name": "stdout",
     "output_type": "stream",
     "text": [
      "sum_even_or_odd\n"
     ]
    }
   ],
   "execution_count": 7
  },
  {
   "metadata": {
    "ExecuteTime": {
     "end_time": "2025-08-09T14:57:46.562398Z",
     "start_time": "2025-08-09T14:57:46.559526Z"
    }
   },
   "cell_type": "code",
   "source": "print(sum_even_or_odd.args)",
   "id": "85e238c654d6bb06",
   "outputs": [
    {
     "name": "stdout",
     "output_type": "stream",
     "text": [
      "{'a': {'title': 'A', 'type': 'integer'}, 'b': {'title': 'B', 'type': 'integer'}}\n"
     ]
    }
   ],
   "execution_count": 8
  },
  {
   "metadata": {
    "ExecuteTime": {
     "end_time": "2025-08-09T14:59:05.440248Z",
     "start_time": "2025-08-09T14:59:05.359843Z"
    }
   },
   "cell_type": "code",
   "source": [
    "print(sum_even_or_odd.invoke({\n",
    "    \"a\": 10,\n",
    "    \"b\": 2\n",
    "}))"
   ],
   "id": "c5208670f441a744",
   "outputs": [
    {
     "name": "stdout",
     "output_type": "stream",
     "text": [
      "Even\n"
     ]
    }
   ],
   "execution_count": 9
  },
  {
   "metadata": {
    "ExecuteTime": {
     "end_time": "2025-08-09T15:02:54.228551Z",
     "start_time": "2025-08-09T15:02:49.318682Z"
    }
   },
   "cell_type": "code",
   "source": "!pip install langchain-openai==0.1.6",
   "id": "e92af01484512a05",
   "outputs": [
    {
     "name": "stdout",
     "output_type": "stream",
     "text": [
      "Collecting langchain-openai==0.1.6\n",
      "  Downloading langchain_openai-0.1.6-py3-none-any.whl.metadata (2.5 kB)\n",
      "Requirement already satisfied: langchain-core<0.2.0,>=0.1.46 in c:\\users\\keaton naidoo\\pycharmprojects\\langchain-tool-tutorial\\.venv\\lib\\site-packages (from langchain-openai==0.1.6) (0.1.53)\n",
      "Collecting openai<2.0.0,>=1.24.0 (from langchain-openai==0.1.6)\n",
      "  Downloading openai-1.99.5-py3-none-any.whl.metadata (29 kB)\n",
      "Collecting tiktoken<1,>=0.5.2 (from langchain-openai==0.1.6)\n",
      "  Downloading tiktoken-0.11.0-cp313-cp313-win_amd64.whl.metadata (6.9 kB)\n",
      "Requirement already satisfied: PyYAML>=5.3 in c:\\users\\keaton naidoo\\pycharmprojects\\langchain-tool-tutorial\\.venv\\lib\\site-packages (from langchain-core<0.2.0,>=0.1.46->langchain-openai==0.1.6) (6.0.2)\n",
      "Requirement already satisfied: jsonpatch<2.0,>=1.33 in c:\\users\\keaton naidoo\\pycharmprojects\\langchain-tool-tutorial\\.venv\\lib\\site-packages (from langchain-core<0.2.0,>=0.1.46->langchain-openai==0.1.6) (1.33)\n",
      "Requirement already satisfied: langsmith<0.2.0,>=0.1.0 in c:\\users\\keaton naidoo\\pycharmprojects\\langchain-tool-tutorial\\.venv\\lib\\site-packages (from langchain-core<0.2.0,>=0.1.46->langchain-openai==0.1.6) (0.1.147)\n",
      "Requirement already satisfied: packaging<24.0,>=23.2 in c:\\users\\keaton naidoo\\pycharmprojects\\langchain-tool-tutorial\\.venv\\lib\\site-packages (from langchain-core<0.2.0,>=0.1.46->langchain-openai==0.1.6) (23.2)\n",
      "Requirement already satisfied: pydantic<3,>=1 in c:\\users\\keaton naidoo\\pycharmprojects\\langchain-tool-tutorial\\.venv\\lib\\site-packages (from langchain-core<0.2.0,>=0.1.46->langchain-openai==0.1.6) (2.11.7)\n",
      "Requirement already satisfied: tenacity<9.0.0,>=8.1.0 in c:\\users\\keaton naidoo\\pycharmprojects\\langchain-tool-tutorial\\.venv\\lib\\site-packages (from langchain-core<0.2.0,>=0.1.46->langchain-openai==0.1.6) (8.5.0)\n",
      "Requirement already satisfied: jsonpointer>=1.9 in c:\\users\\keaton naidoo\\pycharmprojects\\langchain-tool-tutorial\\.venv\\lib\\site-packages (from jsonpatch<2.0,>=1.33->langchain-core<0.2.0,>=0.1.46->langchain-openai==0.1.6) (3.0.0)\n",
      "Requirement already satisfied: httpx<1,>=0.23.0 in c:\\users\\keaton naidoo\\pycharmprojects\\langchain-tool-tutorial\\.venv\\lib\\site-packages (from langsmith<0.2.0,>=0.1.0->langchain-core<0.2.0,>=0.1.46->langchain-openai==0.1.6) (0.28.1)\n",
      "Requirement already satisfied: orjson<4.0.0,>=3.9.14 in c:\\users\\keaton naidoo\\pycharmprojects\\langchain-tool-tutorial\\.venv\\lib\\site-packages (from langsmith<0.2.0,>=0.1.0->langchain-core<0.2.0,>=0.1.46->langchain-openai==0.1.6) (3.11.1)\n",
      "Requirement already satisfied: requests<3,>=2 in c:\\users\\keaton naidoo\\pycharmprojects\\langchain-tool-tutorial\\.venv\\lib\\site-packages (from langsmith<0.2.0,>=0.1.0->langchain-core<0.2.0,>=0.1.46->langchain-openai==0.1.6) (2.32.4)\n",
      "Requirement already satisfied: requests-toolbelt<2.0.0,>=1.0.0 in c:\\users\\keaton naidoo\\pycharmprojects\\langchain-tool-tutorial\\.venv\\lib\\site-packages (from langsmith<0.2.0,>=0.1.0->langchain-core<0.2.0,>=0.1.46->langchain-openai==0.1.6) (1.0.0)\n",
      "Requirement already satisfied: anyio in c:\\users\\keaton naidoo\\pycharmprojects\\langchain-tool-tutorial\\.venv\\lib\\site-packages (from httpx<1,>=0.23.0->langsmith<0.2.0,>=0.1.0->langchain-core<0.2.0,>=0.1.46->langchain-openai==0.1.6) (4.10.0)\n",
      "Requirement already satisfied: certifi in c:\\users\\keaton naidoo\\pycharmprojects\\langchain-tool-tutorial\\.venv\\lib\\site-packages (from httpx<1,>=0.23.0->langsmith<0.2.0,>=0.1.0->langchain-core<0.2.0,>=0.1.46->langchain-openai==0.1.6) (2025.8.3)\n",
      "Requirement already satisfied: httpcore==1.* in c:\\users\\keaton naidoo\\pycharmprojects\\langchain-tool-tutorial\\.venv\\lib\\site-packages (from httpx<1,>=0.23.0->langsmith<0.2.0,>=0.1.0->langchain-core<0.2.0,>=0.1.46->langchain-openai==0.1.6) (1.0.9)\n",
      "Requirement already satisfied: idna in c:\\users\\keaton naidoo\\pycharmprojects\\langchain-tool-tutorial\\.venv\\lib\\site-packages (from httpx<1,>=0.23.0->langsmith<0.2.0,>=0.1.0->langchain-core<0.2.0,>=0.1.46->langchain-openai==0.1.6) (3.10)\n",
      "Requirement already satisfied: h11>=0.16 in c:\\users\\keaton naidoo\\pycharmprojects\\langchain-tool-tutorial\\.venv\\lib\\site-packages (from httpcore==1.*->httpx<1,>=0.23.0->langsmith<0.2.0,>=0.1.0->langchain-core<0.2.0,>=0.1.46->langchain-openai==0.1.6) (0.16.0)\n",
      "Collecting distro<2,>=1.7.0 (from openai<2.0.0,>=1.24.0->langchain-openai==0.1.6)\n",
      "  Using cached distro-1.9.0-py3-none-any.whl.metadata (6.8 kB)\n",
      "Collecting jiter<1,>=0.4.0 (from openai<2.0.0,>=1.24.0->langchain-openai==0.1.6)\n",
      "  Using cached jiter-0.10.0-cp313-cp313-win_amd64.whl.metadata (5.3 kB)\n",
      "Requirement already satisfied: sniffio in c:\\users\\keaton naidoo\\pycharmprojects\\langchain-tool-tutorial\\.venv\\lib\\site-packages (from openai<2.0.0,>=1.24.0->langchain-openai==0.1.6) (1.3.1)\n",
      "Collecting tqdm>4 (from openai<2.0.0,>=1.24.0->langchain-openai==0.1.6)\n",
      "  Using cached tqdm-4.67.1-py3-none-any.whl.metadata (57 kB)\n",
      "Requirement already satisfied: typing-extensions<5,>=4.11 in c:\\users\\keaton naidoo\\pycharmprojects\\langchain-tool-tutorial\\.venv\\lib\\site-packages (from openai<2.0.0,>=1.24.0->langchain-openai==0.1.6) (4.14.1)\n",
      "Requirement already satisfied: annotated-types>=0.6.0 in c:\\users\\keaton naidoo\\pycharmprojects\\langchain-tool-tutorial\\.venv\\lib\\site-packages (from pydantic<3,>=1->langchain-core<0.2.0,>=0.1.46->langchain-openai==0.1.6) (0.7.0)\n",
      "Requirement already satisfied: pydantic-core==2.33.2 in c:\\users\\keaton naidoo\\pycharmprojects\\langchain-tool-tutorial\\.venv\\lib\\site-packages (from pydantic<3,>=1->langchain-core<0.2.0,>=0.1.46->langchain-openai==0.1.6) (2.33.2)\n",
      "Requirement already satisfied: typing-inspection>=0.4.0 in c:\\users\\keaton naidoo\\pycharmprojects\\langchain-tool-tutorial\\.venv\\lib\\site-packages (from pydantic<3,>=1->langchain-core<0.2.0,>=0.1.46->langchain-openai==0.1.6) (0.4.1)\n",
      "Requirement already satisfied: charset_normalizer<4,>=2 in c:\\users\\keaton naidoo\\pycharmprojects\\langchain-tool-tutorial\\.venv\\lib\\site-packages (from requests<3,>=2->langsmith<0.2.0,>=0.1.0->langchain-core<0.2.0,>=0.1.46->langchain-openai==0.1.6) (3.4.3)\n",
      "Requirement already satisfied: urllib3<3,>=1.21.1 in c:\\users\\keaton naidoo\\pycharmprojects\\langchain-tool-tutorial\\.venv\\lib\\site-packages (from requests<3,>=2->langsmith<0.2.0,>=0.1.0->langchain-core<0.2.0,>=0.1.46->langchain-openai==0.1.6) (2.5.0)\n",
      "Collecting regex>=2022.1.18 (from tiktoken<1,>=0.5.2->langchain-openai==0.1.6)\n",
      "  Using cached regex-2025.7.34-cp313-cp313-win_amd64.whl.metadata (41 kB)\n",
      "Requirement already satisfied: colorama in c:\\users\\keaton naidoo\\pycharmprojects\\langchain-tool-tutorial\\.venv\\lib\\site-packages (from tqdm>4->openai<2.0.0,>=1.24.0->langchain-openai==0.1.6) (0.4.6)\n",
      "Downloading langchain_openai-0.1.6-py3-none-any.whl (34 kB)\n",
      "Downloading openai-1.99.5-py3-none-any.whl (786 kB)\n",
      "   ---------------------------------------- 0.0/786.2 kB ? eta -:--:--\n",
      "   ------------- -------------------------- 262.1/786.2 kB ? eta -:--:--\n",
      "   ---------------------------------------- 786.2/786.2 kB 2.6 MB/s eta 0:00:00\n",
      "Using cached distro-1.9.0-py3-none-any.whl (20 kB)\n",
      "Using cached jiter-0.10.0-cp313-cp313-win_amd64.whl (205 kB)\n",
      "Downloading tiktoken-0.11.0-cp313-cp313-win_amd64.whl (883 kB)\n",
      "   ---------------------------------------- 0.0/883.9 kB ? eta -:--:--\n",
      "   ----------- ---------------------------- 262.1/883.9 kB ? eta -:--:--\n",
      "   ---------------------------------------- 883.9/883.9 kB 2.6 MB/s eta 0:00:00\n",
      "Using cached regex-2025.7.34-cp313-cp313-win_amd64.whl (275 kB)\n",
      "Using cached tqdm-4.67.1-py3-none-any.whl (78 kB)\n",
      "Installing collected packages: tqdm, regex, jiter, distro, tiktoken, openai, langchain-openai\n",
      "\n",
      "   ----------------- ---------------------- 3/7 [distro]\n",
      "   ---------------------------- ----------- 5/7 [openai]\n",
      "   ---------------------------- ----------- 5/7 [openai]\n",
      "   ---------------------------- ----------- 5/7 [openai]\n",
      "   ---------------------------- ----------- 5/7 [openai]\n",
      "   ---------------------------- ----------- 5/7 [openai]\n",
      "   ---------------------------- ----------- 5/7 [openai]\n",
      "   ---------------------------- ----------- 5/7 [openai]\n",
      "   ---------------------------- ----------- 5/7 [openai]\n",
      "   ---------------------------------- ----- 6/7 [langchain-openai]\n",
      "   ---------------------------------------- 7/7 [langchain-openai]\n",
      "\n",
      "Successfully installed distro-1.9.0 jiter-0.10.0 langchain-openai-0.1.6 openai-1.99.5 regex-2025.7.34 tiktoken-0.11.0 tqdm-4.67.1\n"
     ]
    },
    {
     "name": "stderr",
     "output_type": "stream",
     "text": [
      "\n",
      "[notice] A new release of pip is available: 25.1.1 -> 25.2\n",
      "[notice] To update, run: python.exe -m pip install --upgrade pip\n"
     ]
    }
   ],
   "execution_count": 10
  },
  {
   "metadata": {
    "ExecuteTime": {
     "end_time": "2025-08-09T15:03:36.992072Z",
     "start_time": "2025-08-09T15:03:36.497866Z"
    }
   },
   "cell_type": "code",
   "source": "!pip show langchain-openai",
   "id": "3bfe09d3afbbcc9d",
   "outputs": [
    {
     "name": "stdout",
     "output_type": "stream",
     "text": [
      "Name: langchain-openai\n",
      "Version: 0.1.6\n",
      "Summary: An integration package connecting OpenAI and LangChain\n",
      "Home-page: https://github.com/langchain-ai/langchain\n",
      "Author: \n",
      "Author-email: \n",
      "License: MIT\n",
      "Location: C:\\Users\\Keaton Naidoo\\PycharmProjects\\langchain-tool-tutorial\\.venv\\Lib\\site-packages\n",
      "Requires: langchain-core, openai, tiktoken\n",
      "Required-by: \n"
     ]
    }
   ],
   "execution_count": 11
  },
  {
   "metadata": {
    "ExecuteTime": {
     "end_time": "2025-08-09T15:05:49.397621Z",
     "start_time": "2025-08-09T15:05:47.656500Z"
    }
   },
   "cell_type": "code",
   "source": "!pip install python-dotenv",
   "id": "fbef768f71902c82",
   "outputs": [
    {
     "name": "stdout",
     "output_type": "stream",
     "text": [
      "Requirement already satisfied: python-dotenv in c:\\users\\keaton naidoo\\pycharmprojects\\langchain-tool-tutorial\\.venv\\lib\\site-packages (1.1.1)\n"
     ]
    }
   ],
   "execution_count": 15
  },
  {
   "metadata": {
    "ExecuteTime": {
     "end_time": "2025-08-09T15:07:17.632256Z",
     "start_time": "2025-08-09T15:07:17.626643Z"
    }
   },
   "cell_type": "code",
   "source": [
    "from dotenv import load_dotenv\n",
    "\n",
    "load_dotenv()"
   ],
   "id": "a9f7e0f6f884ff9f",
   "outputs": [
    {
     "data": {
      "text/plain": [
       "True"
      ]
     },
     "execution_count": 16,
     "metadata": {},
     "output_type": "execute_result"
    }
   ],
   "execution_count": 16
  },
  {
   "metadata": {
    "ExecuteTime": {
     "end_time": "2025-08-09T15:10:05.719544Z",
     "start_time": "2025-08-09T15:10:04.536941Z"
    }
   },
   "cell_type": "code",
   "source": [
    "from langchain_openai import ChatOpenAI\n",
    "\n",
    "client = ChatOpenAI(model=\"gpt-3.5-turbo-0125\")"
   ],
   "id": "53c1dca0c930b3fb",
   "outputs": [],
   "execution_count": 17
  },
  {
   "metadata": {
    "ExecuteTime": {
     "end_time": "2025-08-09T15:10:52.578151Z",
     "start_time": "2025-08-09T15:10:52.457627Z"
    }
   },
   "cell_type": "code",
   "source": "client_with_tools = client.bind_tools([sum_even_or_odd])",
   "id": "8d89fb2f7f5ff383",
   "outputs": [],
   "execution_count": 18
  },
  {
   "metadata": {
    "ExecuteTime": {
     "end_time": "2025-08-09T15:11:10.875405Z",
     "start_time": "2025-08-09T15:11:10.872582Z"
    }
   },
   "cell_type": "code",
   "source": "print(client_with_tools)",
   "id": "6ffbf683fd0baa55",
   "outputs": [
    {
     "name": "stdout",
     "output_type": "stream",
     "text": [
      "bound=ChatOpenAI(client=<openai.resources.chat.completions.completions.Completions object at 0x00000236DFA4BCB0>, async_client=<openai.resources.chat.completions.completions.AsyncCompletions object at 0x00000236DFF08830>, model_name='gpt-3.5-turbo-0125', openai_api_key=SecretStr('**********'), openai_proxy='') kwargs={'tools': [{'type': 'function', 'function': {'name': 'sum_even_or_odd', 'description': 'sum_even_or_odd(a: int, b: int) -> str - This function calculates the sum of two integers and returns \"Even\" if the sum is an even number or \"Odd\" if the sum is odd number.', 'parameters': {'type': 'object', 'properties': {'a': {'type': 'integer'}, 'b': {'type': 'integer'}}, 'required': ['a', 'b']}}}]}\n"
     ]
    }
   ],
   "execution_count": 19
  },
  {
   "metadata": {
    "ExecuteTime": {
     "end_time": "2025-08-09T15:12:13.434660Z",
     "start_time": "2025-08-09T15:12:11.628067Z"
    }
   },
   "cell_type": "code",
   "source": "message = client_with_tools.invoke(\"What kind of sum is the sum of four and nine?\")",
   "id": "a15f569249ade2a1",
   "outputs": [],
   "execution_count": 20
  },
  {
   "metadata": {
    "ExecuteTime": {
     "end_time": "2025-08-09T15:12:23.387350Z",
     "start_time": "2025-08-09T15:12:23.384546Z"
    }
   },
   "cell_type": "code",
   "source": "print(message)",
   "id": "772929ac7f3cfe48",
   "outputs": [
    {
     "name": "stdout",
     "output_type": "stream",
     "text": [
      "content='' additional_kwargs={'tool_calls': [{'id': 'call_LQR520wV8h2G8CXjXquizGcv', 'function': {'arguments': '{\"a\":4,\"b\":9}', 'name': 'sum_even_or_odd'}, 'type': 'function'}]} response_metadata={'token_usage': {'completion_tokens': 20, 'prompt_tokens': 102, 'total_tokens': 122, 'completion_tokens_details': {'accepted_prediction_tokens': 0, 'audio_tokens': 0, 'reasoning_tokens': 0, 'rejected_prediction_tokens': 0}, 'prompt_tokens_details': {'audio_tokens': 0, 'cached_tokens': 0}}, 'model_name': 'gpt-3.5-turbo-0125', 'system_fingerprint': None, 'finish_reason': 'tool_calls', 'logprobs': None} id='run-4b7e6fc4-009c-4fe5-a7f8-d26ffb586915-0' tool_calls=[{'name': 'sum_even_or_odd', 'args': {'a': 4, 'b': 9}, 'id': 'call_LQR520wV8h2G8CXjXquizGcv'}]\n"
     ]
    }
   ],
   "execution_count": 21
  },
  {
   "metadata": {
    "ExecuteTime": {
     "end_time": "2025-08-09T15:13:19.798831Z",
     "start_time": "2025-08-09T15:13:19.795560Z"
    }
   },
   "cell_type": "code",
   "source": "print(message.tool_calls)",
   "id": "22f35af8479adf63",
   "outputs": [
    {
     "name": "stdout",
     "output_type": "stream",
     "text": [
      "[{'name': 'sum_even_or_odd', 'args': {'a': 4, 'b': 9}, 'id': 'call_LQR520wV8h2G8CXjXquizGcv'}]\n"
     ]
    }
   ],
   "execution_count": 22
  },
  {
   "metadata": {},
   "cell_type": "code",
   "outputs": [],
   "execution_count": null,
   "source": "",
   "id": "35ec5a3f31847322"
  }
 ],
 "metadata": {
  "kernelspec": {
   "display_name": "Python 3",
   "language": "python",
   "name": "python3"
  },
  "language_info": {
   "codemirror_mode": {
    "name": "ipython",
    "version": 2
   },
   "file_extension": ".py",
   "mimetype": "text/x-python",
   "name": "python",
   "nbconvert_exporter": "python",
   "pygments_lexer": "ipython2",
   "version": "2.7.6"
  }
 },
 "nbformat": 4,
 "nbformat_minor": 5
}
